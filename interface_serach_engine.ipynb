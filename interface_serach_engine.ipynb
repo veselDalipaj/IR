{
 "cells": [
  {
   "cell_type": "code",
   "execution_count": 2,
   "id": "5e3c8b3a-91d5-4894-99c8-a3113524633f",
   "metadata": {},
   "outputs": [
    {
     "data": {
      "application/vnd.jupyter.widget-view+json": {
       "model_id": "8634588952cc4ab08a60b4ba1edaa25b",
       "version_major": 2,
       "version_minor": 0
      },
      "text/plain": [
       "Text(value='', description='Query:', placeholder='Enter your query')"
      ]
     },
     "metadata": {},
     "output_type": "display_data"
    },
    {
     "data": {
      "application/vnd.jupyter.widget-view+json": {
       "model_id": "1fde98ce3e384f528f4af5157a54fdb8",
       "version_major": 2,
       "version_minor": 0
      },
      "text/plain": [
       "Dropdown(description='Operator:', options=('AND', 'OR', 'NOT'), value='AND')"
      ]
     },
     "metadata": {},
     "output_type": "display_data"
    },
    {
     "data": {
      "application/vnd.jupyter.widget-view+json": {
       "model_id": "1198c4e41a6c4024b01cacdcb1ef9a16",
       "version_major": 2,
       "version_minor": 0
      },
      "text/plain": [
       "Dropdown(description='Algorithm:', options=('Boolean', 'TF-IDF', 'BM25'), value='Boolean')"
      ]
     },
     "metadata": {},
     "output_type": "display_data"
    },
    {
     "data": {
      "application/vnd.jupyter.widget-view+json": {
       "model_id": "1f612ac1b32a4815a60e30a575597e6b",
       "version_major": 2,
       "version_minor": 0
      },
      "text/plain": [
       "Button(description='Search', style=ButtonStyle())"
      ]
     },
     "metadata": {},
     "output_type": "display_data"
    },
    {
     "data": {
      "application/vnd.jupyter.widget-view+json": {
       "model_id": "e8e2dc9ee1724a7583f1e497fccb4943",
       "version_major": 2,
       "version_minor": 0
      },
      "text/plain": [
       "Output()"
      ]
     },
     "metadata": {},
     "output_type": "display_data"
    }
   ],
   "source": [
    "import ipywidgets as widgets\n",
    "from IPython.display import display, HTML\n",
    "from backend_search_engine import load_data, preprocess_query, boolean_search, tfidf_ranking, bm25_ranking\n",
    "\n",
    "data, processed_data, inverted_index = load_data()\n",
    "\n",
    "def format_results(results, data):\n",
    "    if isinstance(results, list) and results and isinstance(results[0], tuple): \n",
    "        return \"<br>\\n\".join(\n",
    "            [\n",
    "                f'<a href=\"{data[doc_id].get(\"article_url\", \"#\")}\" target=\"_blank\">'\n",
    "                f'{data[doc_id].get(\"title\", \"Untitled Document\")}</a> '\n",
    "                f\"(Score: {score:.4f})\"\n",
    "                for doc_id, score in results\n",
    "                if 0 <= doc_id < len(data)\n",
    "            ]\n",
    "        )\n",
    "    elif isinstance(results, (list, set)) and results and isinstance(next(iter(results)), int):  # Boolean results\n",
    "        return \"<br>\\n\".join(\n",
    "            [\n",
    "                f'<a href=\"{data[doc_id - 1].get(\"article_url\", \"#\")}\" target=\"_blank\">'\n",
    "                f'{data[doc_id - 1].get(\"title\", \"Untitled Document\")}</a>'\n",
    "                for doc_id in sorted(results)\n",
    "                if 0 <= (doc_id - 1) < len(data)\n",
    "            ]\n",
    "        )\n",
    "    return \"No matching documents found.\"\n",
    "\n",
    "\n",
    "def search_interface(query, operator, algorithm):\n",
    "    if not data or not processed_data or not inverted_index:\n",
    "        return \"Data files not loaded correctly.\"\n",
    "\n",
    "    query_terms = preprocess_query(query)\n",
    "\n",
    "    if algorithm == \"Boolean\":\n",
    "        results = boolean_search(query_terms, inverted_index, operator)\n",
    "        return format_results(results, data) if results else \"No matching documents found.\"\n",
    "        \n",
    "    elif algorithm == \"TF-IDF\":\n",
    "        results = tfidf_ranking(query_terms, processed_data)\n",
    "        return format_results(results, data) if results else \"No matching documents found.\"\n",
    "        \n",
    "    elif algorithm == \"BM25\":\n",
    "        results = bm25_ranking(query_terms, processed_data)\n",
    "        return format_results(results, data) if results else \"No matching documents found.\"\n",
    "\n",
    "\n",
    "query_input = widgets.Text(description=\"Query:\", placeholder=\"Enter your query\")\n",
    "operator_input = widgets.Dropdown(options=[\"AND\", \"OR\", \"NOT\"], description=\"Operator:\")\n",
    "algorithm_input = widgets.Dropdown(options=[\"Boolean\", \"TF-IDF\", \"BM25\"], description=\"Algorithm:\")\n",
    "output = widgets.Output()\n",
    "\n",
    "def on_search_click(_):\n",
    "    with output:\n",
    "        output.clear_output()\n",
    "        results = search_interface(query_input.value, operator_input.value, algorithm_input.value)\n",
    "        display(HTML(results))\n",
    "\n",
    "search_button = widgets.Button(description=\"Search\")\n",
    "search_button.on_click(on_search_click)\n",
    "\n",
    "display(query_input, operator_input, algorithm_input, search_button, output)\n"
   ]
  },
  {
   "cell_type": "code",
   "execution_count": null,
   "id": "bbc1f67e-bc51-4340-b16c-72e3346ac42a",
   "metadata": {},
   "outputs": [],
   "source": []
  }
 ],
 "metadata": {
  "kernelspec": {
   "display_name": "Python 3 (ipykernel)",
   "language": "python",
   "name": "python3"
  },
  "language_info": {
   "codemirror_mode": {
    "name": "ipython",
    "version": 3
   },
   "file_extension": ".py",
   "mimetype": "text/x-python",
   "name": "python",
   "nbconvert_exporter": "python",
   "pygments_lexer": "ipython3",
   "version": "3.12.4"
  }
 },
 "nbformat": 4,
 "nbformat_minor": 5
}
